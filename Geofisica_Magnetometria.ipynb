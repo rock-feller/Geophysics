{
 "metadata": {
  "name": ""
 },
 "nbformat": 3,
 "nbformat_minor": 0,
 "worksheets": [
  {
   "cells": [
    {
     "cell_type": "code",
     "collapsed": false,
     "input": [
      "%pylab inline\n",
      "from matplotlib.backends.backend_pdf import PdfPages\n",
      "import matplotlib.pyplot as plt\n",
      "\n",
      "file = open('grupoA_magnetometria_survey1.txt', 'r') #Open files from Brahe-3141-f/ directory\n",
      "x, y, z= loadtxt(file, unpack=True)  # http://bulldog2.redlands.edu/facultyfolder/deweerd/tutorials/ReadingWriting.html\n",
      "size_of_x = size(x) #gives how many lines there are in the file\n",
      "\n",
      "max_a = int(max(x)/5)\n",
      "max_b = int(max(y)/5)\n",
      "print max_a\n",
      "Z = ones((max_b+1, max_a+1))\n",
      "\n",
      "\n",
      "for i in range(int(max_b)):\n",
      "    for j in range(int(max_a)):\n",
      "        Z[i][j] = 0\n",
      "\n",
      "with PdfPages('survey1_GrupoA.pdf') as pdf:\n",
      "    plt.plot(x,y)\n",
      "    plt.title('Survey 1 - Grupo A')\n",
      "    plt.ylabel('Distancia Recorrida en Y')\n",
      "    plt.xlabel('Distancia Recorrida en X')\n",
      "    plot(0,0,'ro')\n",
      "    pdf.savefig()  # saves the current figure into a pdf page\n",
      "    \n",
      "    plt.show()\n",
      "\n",
      "\n",
      "    \n",
      "for i in range(size_of_x):\n",
      "    a = x[i]/5\n",
      "    b = y[i]/5\n",
      "    if(Z[b][a] == 0):\n",
      "        Z[b][a] = z[i]\n",
      "    if(Z[b][a] != 0):\n",
      "        Z[b][a] = ( Z[b][a] + z[i] )/ 2 \n",
      "        \n",
      "\n",
      "from mpl_toolkits.mplot3d import Axes3D\n",
      "\n",
      "X,Y = meshgrid(x,y)\n",
      "x = linspace(0,c-1,c)\n",
      "y = linspace(0,r-1,r)\n",
      "# `ax` is a 3D-aware axis instance because of the projection='3d' keyword argument to add_subplot\n",
      "fig = plt.figure(figsize=(14,6))\n",
      "\n",
      "ax = fig.add_subplot(1, 1, 1, projection='3d')\n",
      "\n",
      "ax.set_zlim(0, 0.1*(10**7))\n",
      "p = ax.plot_surface(X, Y, abs(F_Transform), rstride=4, cstride=4, linewidth=0)\n",
      "\n",
      "plt.show()\n"
     ],
     "language": "python",
     "metadata": {},
     "outputs": [
      {
       "output_type": "stream",
       "stream": "stdout",
       "text": [
        "Populating the interactive namespace from numpy and matplotlib\n",
        "22\n"
       ]
      },
      {
       "metadata": {},
       "output_type": "display_data",
       "png": "[encoded data removed]",
       "text": [
        "<matplotlib.figure.Figure at 0x7f09f35f6d10>"
       ]
      },
      {
       "ename": "NameError",
       "evalue": "name 'c' is not defined",
       "output_type": "pyerr",
       "traceback": [
        "\u001b[0;31m---------------------------------------------------------------------------\u001b[0m\n\u001b[0;31mNameError\u001b[0m                                 Traceback (most recent call last)",
        "\u001b[0;32m<ipython-input-1-98b5dfd9624d>\u001b[0m in \u001b[0;36m<module>\u001b[0;34m()\u001b[0m\n\u001b[1;32m     41\u001b[0m \u001b[0;34m\u001b[0m\u001b[0m\n\u001b[1;32m     42\u001b[0m \u001b[0mX\u001b[0m\u001b[0;34m,\u001b[0m\u001b[0mY\u001b[0m \u001b[0;34m=\u001b[0m \u001b[0mmeshgrid\u001b[0m\u001b[0;34m(\u001b[0m\u001b[0mx\u001b[0m\u001b[0;34m,\u001b[0m\u001b[0my\u001b[0m\u001b[0;34m)\u001b[0m\u001b[0;34m\u001b[0m\u001b[0m\n\u001b[0;32m---> 43\u001b[0;31m \u001b[0mx\u001b[0m \u001b[0;34m=\u001b[0m \u001b[0mlinspace\u001b[0m\u001b[0;34m(\u001b[0m\u001b[0;36m0\u001b[0m\u001b[0;34m,\u001b[0m\u001b[0mc\u001b[0m\u001b[0;34m-\u001b[0m\u001b[0;36m1\u001b[0m\u001b[0;34m,\u001b[0m\u001b[0mc\u001b[0m\u001b[0;34m)\u001b[0m\u001b[0;34m\u001b[0m\u001b[0m\n\u001b[0m\u001b[1;32m     44\u001b[0m \u001b[0my\u001b[0m \u001b[0;34m=\u001b[0m \u001b[0mlinspace\u001b[0m\u001b[0;34m(\u001b[0m\u001b[0;36m0\u001b[0m\u001b[0;34m,\u001b[0m\u001b[0mr\u001b[0m\u001b[0;34m-\u001b[0m\u001b[0;36m1\u001b[0m\u001b[0;34m,\u001b[0m\u001b[0mr\u001b[0m\u001b[0;34m)\u001b[0m\u001b[0;34m\u001b[0m\u001b[0m\n\u001b[1;32m     45\u001b[0m \u001b[0;31m# `ax` is a 3D-aware axis instance because of the projection='3d' keyword argument to add_subplot\u001b[0m\u001b[0;34m\u001b[0m\u001b[0;34m\u001b[0m\u001b[0m\n",
        "\u001b[0;31mNameError\u001b[0m: name 'c' is not defined"
       ]
      }
     ],
     "prompt_number": 1
    },
    {
     "cell_type": "code",
     "collapsed": false,
     "input": [
      "Z[4][21]"
     ],
     "language": "python",
     "metadata": {},
     "outputs": [
      {
       "metadata": {},
       "output_type": "pyout",
       "prompt_number": 45,
       "text": [
        "0.0"
       ]
      }
     ],
     "prompt_number": 45
    },
    {
     "cell_type": "code",
     "collapsed": false,
     "input": [],
     "language": "python",
     "metadata": {},
     "outputs": []
    }
   ],
   "metadata": {}
  }
 ]
}