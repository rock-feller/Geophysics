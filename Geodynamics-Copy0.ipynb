{
 "metadata": {
  "name": ""
 },
 "nbformat": 3,
 "nbformat_minor": 0,
 "worksheets": [
  {
   "cells": [
    {
     "cell_type": "code",
     "collapsed": false,
     "input": [
      "%pylab inline\n",
      "import numpy as np\n",
      "from matplotlib.backends.backend_pdf import PdfPages\n",
      "import matplotlib.pyplot as plt\n",
      "file = open('manuel.txt', 'r') #Open files from Brahe-3141-f/ directory\n",
      "t, y= loadtxt(file, unpack=True)  # http://bulldog2.redlands.edu/facultyfolder/deweerd/tutorials/ReadingWriting.html\n",
      "size_of_t = size(t) #gives how many lines there are in the file\n",
      "\n",
      "\n",
      "with PdfPages('Elevation profile_manuel.pdf') as pdf:\n",
      "    plt.plot(t,y)\n",
      "    plt.axis([0, 1000000, min(y),max(y)])\n",
      "    plt.title('Elevation profile using data from Geocontext') #http://www.geocontext.org/publ/2010/04/profiler/en/\n",
      "    pdf.savefig()  # saves the current figure into a pdf page\n",
      "    plt.close()\n",
      "print max(t)\n",
      "size(t)"
     ],
     "language": "python",
     "metadata": {},
     "outputs": [
      {
       "output_type": "stream",
       "stream": "stdout",
       "text": [
        "Populating the interactive namespace from numpy and matplotlib\n",
        "3212354.24337"
       ]
      },
      {
       "output_type": "stream",
       "stream": "stdout",
       "text": [
        "\n"
       ]
      },
      {
       "metadata": {},
       "output_type": "pyout",
       "prompt_number": 5,
       "text": [
        "512"
       ]
      }
     ],
     "prompt_number": 5
    },
    {
     "cell_type": "code",
     "collapsed": false,
     "input": [
      "#x = []\n",
      "#tamano =  1774654# Length in meters of the Nazca Plate\n",
      "#for i in range(tamano): # This is just to tell you how to create a list.\n",
      "  #  x.append(i)\n",
      "x = np.linspace(0, 1774654, num=100)\n",
      "\n",
      "k = 10.0**(-6) #Kappa in meters/second at an age of 80 Myr\n",
      "U = 3.7*(10**(-2))/(60*60*24*365)#3.7cm/year Nazca plate velocity to the east- http://en.wikipedia.org/wiki/Nazca_Plate"
     ],
     "language": "python",
     "metadata": {},
     "outputs": [],
     "prompt_number": 6
    },
    {
     "cell_type": "code",
     "collapsed": false,
     "input": [
      "u = U/2\n",
      "print u\n",
      "print U"
     ],
     "language": "python",
     "metadata": {},
     "outputs": [
      {
       "output_type": "stream",
       "stream": "stdout",
       "text": [
        "5.866311517e-10\n",
        "1.1732623034e-09\n"
       ]
      }
     ],
     "prompt_number": 7
    },
    {
     "cell_type": "code",
     "collapsed": false,
     "input": [
      "deltat = 1300 # T1-T0 1300Kelvins"
     ],
     "language": "python",
     "metadata": {},
     "outputs": [],
     "prompt_number": 8
    },
    {
     "cell_type": "code",
     "collapsed": false,
     "input": [
      "yl = []\n",
      "tamano =  1774654\n",
      "for i in range(tamano):\n",
      "    yl.append(i)\n",
      "   "
     ],
     "language": "python",
     "metadata": {},
     "outputs": [],
     "prompt_number": 9
    },
    {
     "cell_type": "code",
     "collapsed": false,
     "input": [
      "#for i in range(tamano):\n",
      "yl = 2.32*((k*x/u)**(0.5))"
     ],
     "language": "python",
     "metadata": {},
     "outputs": [],
     "prompt_number": 10
    },
    {
     "cell_type": "code",
     "collapsed": false,
     "input": [
      "with PdfPages('Thickness-profile_aura.pdf') as pdf:\n",
      "    plt.plot(x,yl)\n",
      "    plt.axis([0, 1800000, 0, 180000])\n",
      "    plt.title('Thickness of the Litosphere as a function of distance from the ridge')\n",
      "    pdf.savefig()  # saves the current figure into a pdf page\n",
      "    plt.close()"
     ],
     "language": "python",
     "metadata": {},
     "outputs": [],
     "prompt_number": 12
    },
    {
     "cell_type": "code",
     "collapsed": false,
     "input": [
      "pi = 3.14\n",
      "K = 3.3 #in [W]/[M*C]\n",
      "x1 = np.linspace(0.000001, 1774654, num=100)\n",
      "Q = K*deltat*(u/(pi*k*x1))**0.5"
     ],
     "language": "python",
     "metadata": {},
     "outputs": [],
     "prompt_number": 13
    },
    {
     "cell_type": "code",
     "collapsed": false,
     "input": [
      "with PdfPages('Surface_Heat_flow-profile_aura.pdf') as pdf:\n",
      "    plt.plot(x1,Q)\n",
      "   # plt.axis([0.000001, 200, 0, 140000])\n",
      "    plt.title('Surface Heat flow-profile as a function of distance from the ridge')\n",
      "    pdf.savefig()  # saves the current figure into a pdf page\n",
      "    plt.close()"
     ],
     "language": "python",
     "metadata": {},
     "outputs": [],
     "prompt_number": 15
    },
    {
     "cell_type": "code",
     "collapsed": false,
     "input": [
      "plt.plot(x1,Q)\n",
      "plt.axis([0, 20000, 0, 2000])\n",
      "\n"
     ],
     "language": "python",
     "metadata": {},
     "outputs": [
      {
       "metadata": {},
       "output_type": "pyout",
       "prompt_number": 16,
       "text": [
        "[0, 20000, 0, 2000]"
       ]
      },
      {
       "metadata": {},
       "output_type": "display_data",
       "png": "[encoded data removed]",
       "text": [
        "<matplotlib.figure.Figure at 0x7fc4a6210b10>"
       ]
      }
     ],
     "prompt_number": 16
    },
    {
     "cell_type": "code",
     "collapsed": false,
     "input": [
      "p_mantle = 3300\n",
      "p_water = 1000\n",
      "alfa_v = 3*(10**(-5))\n",
      "w = (2*p_mantle*deltat*alfa_v)/(p_mantle - p_water)*((k*x)/(pi*u))**(0.5)\n",
      "print w\n"
     ],
     "language": "python",
     "metadata": {},
     "outputs": [
      {
       "output_type": "stream",
       "stream": "stdout",
       "text": [
        "[    0.           349.11826501   493.72778525   604.69057285   698.23653002\n",
        "   780.65217275   855.16160916   923.68010737   987.4555705   1047.35479504\n",
        "  1104.0088902   1157.8942925   1209.3811457   1258.7638057   1306.28093514\n",
        "  1352.12922625  1396.47306005  1439.45148248  1481.18335576  1521.77123653\n",
        "  1561.30434551  1599.86087591  1637.50981225  1674.31238071  1710.32321833\n",
        "  1745.59132506  1780.16084585  1814.07171855  1847.36021474  1880.05939427\n",
        "  1912.19948984  1943.80823435  1974.91114101  2005.53174441  2035.6918089\n",
        "  2065.41150955  2094.70959007  2123.60350106  2152.10952153  2180.2428662\n",
        "  2208.01778041  2235.44762443  2262.54494862  2289.32156053  2315.78858501\n",
        "  2341.95651826  2367.83527645  2393.43423961  2418.7622914   2443.82785508\n",
        "  2468.63892626  2493.20310268  2517.5276114   2541.61933364  2565.48482749\n",
        "  2589.1303488   2612.56187028  2635.78509917  2658.80549344  2681.6282768\n",
        "  2704.25845249  2726.70081616  2748.95996766  2771.04032211  2792.94612009\n",
        "  2814.68143716  2836.25019272  2857.65615823  2878.90296495  2899.99411113\n",
        "  2920.93296868  2941.72278954  2962.36671151  2982.86776382  3003.2288723\n",
        "  3023.45286425  3043.54247306  3063.50034247  3083.32903065  3103.03101406\n",
        "  3122.60869101  3142.06438511  3161.40034844  3180.61876466  3199.72175182\n",
        "  3218.71136513  3237.58959953  3256.35839212  3275.01962451  3293.57512498\n",
        "  3312.02667061  3330.37598925  3348.62476141  3366.77462206  3384.82716231\n",
        "  3402.78393109  3420.64643666  3438.41614811  3456.09449676  3473.68287751]\n"
       ]
      }
     ],
     "prompt_number": 17
    },
    {
     "cell_type": "code",
     "collapsed": false,
     "input": [
      "with PdfPages('Topography profile_aura.pdf') as pdf:\n",
      "    plt.plot(x1,w, '-')\n",
      "    plt.axis([0, 700000, 0,2500 ])\n",
      "    plt.title('Topography depth vs distance from ridge')\n",
      "    pdf.savefig()  # saves the current figure into a pdf page\n",
      "    plt.close()"
     ],
     "language": "python",
     "metadata": {},
     "outputs": [],
     "prompt_number": 28
    },
    {
     "cell_type": "code",
     "collapsed": false,
     "input": [
      "plt.axis([0, 700000, 0,2500 ])\n",
      "plt.plot(x1,w, '-')"
     ],
     "language": "python",
     "metadata": {},
     "outputs": [
      {
       "metadata": {},
       "output_type": "pyout",
       "prompt_number": 29,
       "text": [
        "[<matplotlib.lines.Line2D at 0x7fc4a54096d0>]"
       ]
      },
      {
       "metadata": {},
       "output_type": "display_data",
       "png": "[encoded data removed]",
       "text": [
        "<matplotlib.figure.Figure at 0x7fc4a5409590>"
       ]
      }
     ],
     "prompt_number": 29
    },
    {
     "cell_type": "code",
     "collapsed": false,
     "input": [],
     "language": "python",
     "metadata": {},
     "outputs": []
    }
   ],
   "metadata": {}
  }
 ]
}